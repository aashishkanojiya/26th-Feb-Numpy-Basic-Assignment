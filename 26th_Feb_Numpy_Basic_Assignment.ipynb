{
  "nbformat": 4,
  "nbformat_minor": 0,
  "metadata": {
    "colab": {
      "provenance": []
    },
    "kernelspec": {
      "name": "python3",
      "display_name": "Python 3"
    },
    "language_info": {
      "name": "python"
    }
  },
  "cells": [
    {
      "cell_type": "markdown",
      "source": [
        "Consider the below code to answer further questions:\n",
        "\n"
      ],
      "metadata": {
        "id": "cro85R-lQBDs"
      }
    },
    {
      "cell_type": "code",
      "execution_count": 20,
      "metadata": {
        "id": "sLh5UB9SPdJI"
      },
      "outputs": [],
      "source": [
        "import numpy as np\n",
        "list_ = ['1','2','3','4','5']\n",
        "array_list = np.array(object = list_)"
      ]
    },
    {
      "cell_type": "code",
      "source": [
        "array_list"
      ],
      "metadata": {
        "colab": {
          "base_uri": "https://localhost:8080/"
        },
        "id": "jqwr_3phYVxF",
        "outputId": "ce7075e6-01f1-432b-ff18-baa664e0c450"
      },
      "execution_count": 21,
      "outputs": [
        {
          "output_type": "execute_result",
          "data": {
            "text/plain": [
              "array(['1', '2', '3', '4', '5'], dtype='<U1')"
            ]
          },
          "metadata": {},
          "execution_count": 21
        }
      ]
    },
    {
      "cell_type": "markdown",
      "source": [
        "Queston 1 : Is there any difference in the data type of variables list_ and array_list? If there is then write a code to print the data types of both the variables"
      ],
      "metadata": {
        "id": "fZdxrv-SZu9t"
      }
    },
    {
      "cell_type": "markdown",
      "source": [
        "Answer:-Yes, there is a difference in the data types of the variables list_ and array_list.\n",
        "list_ is a Python list.\n",
        "array_list is a NumPy array.\n",
        "Although they both contain the same string values, they have different data types because they are different types of objects.\n",
        "\n",
        "Code to check type below :"
      ],
      "metadata": {
        "id": "4A6qdlphZyam"
      }
    },
    {
      "cell_type": "code",
      "source": [
        "import numpy as np\n",
        "\n",
        "# Example list and NumPy array\n",
        "list_ = [1, 2, 3, 4, 5]\n",
        "array_list = np.array(list_)\n",
        "\n",
        "# Print the data types\n",
        "print(\"Data type of list_:\", type(list_))\n",
        "print(\"Data type of array_list:\", type(array_list))\n"
      ],
      "metadata": {
        "colab": {
          "base_uri": "https://localhost:8080/"
        },
        "id": "SMgbsWFOabP2",
        "outputId": "61fd84f3-426b-48fc-96d2-c176808e1eb2"
      },
      "execution_count": 22,
      "outputs": [
        {
          "output_type": "stream",
          "name": "stdout",
          "text": [
            "Data type of list_: <class 'list'>\n",
            "Data type of array_list: <class 'numpy.ndarray'>\n"
          ]
        }
      ]
    },
    {
      "cell_type": "markdown",
      "source": [
        "Q2. Write a code to print the data type of each and every element of both the variables list_ and\n",
        "arra_list."
      ],
      "metadata": {
        "id": "Cs6H5hhlampe"
      }
    },
    {
      "cell_type": "markdown",
      "source": [
        "Answer:-"
      ],
      "metadata": {
        "id": "MAm_gWAvaoI4"
      }
    },
    {
      "cell_type": "code",
      "source": [
        "import numpy as np\n",
        "\n",
        "# Example list and NumPy array\n",
        "list_ = [1, 2, 3, 4, 5]\n",
        "array_list = np.array(list_)\n",
        "\n",
        "# Print the data type of each element in list_\n",
        "print(\"Data types in list_:\")\n",
        "for element in list_:\n",
        "    print(type(element))\n",
        "\n",
        "# Print the data type of each element in array_list\n",
        "print(\"\\nData types in array_list:\")\n",
        "for element in array_list:\n",
        "    print(type(element))"
      ],
      "metadata": {
        "colab": {
          "base_uri": "https://localhost:8080/"
        },
        "id": "Du1MEb0ta4nC",
        "outputId": "1b9a5daa-0abf-4864-8919-a050c34c52b2"
      },
      "execution_count": 23,
      "outputs": [
        {
          "output_type": "stream",
          "name": "stdout",
          "text": [
            "Data types in list_:\n",
            "<class 'int'>\n",
            "<class 'int'>\n",
            "<class 'int'>\n",
            "<class 'int'>\n",
            "<class 'int'>\n",
            "\n",
            "Data types in array_list:\n",
            "<class 'numpy.int64'>\n",
            "<class 'numpy.int64'>\n",
            "<class 'numpy.int64'>\n",
            "<class 'numpy.int64'>\n",
            "<class 'numpy.int64'>\n"
          ]
        }
      ]
    },
    {
      "cell_type": "markdown",
      "source": [
        "Q3. Considering the following changes in the variable, array_list:\n",
        "array_list = np.array(object = list_, dtype = int)\n",
        "Will there be any difference in the data type of the elements present in both the variables, list_ and\n",
        "arra_list? If so then print the data types of each and every element present in both the variables, list_\n",
        "and arra_list."
      ],
      "metadata": {
        "id": "3iHc4umGbgoH"
      }
    },
    {
      "cell_type": "markdown",
      "source": [
        "Answer:-Yes, there will be a difference in the data types of the elements present in list_ and array_list.\n",
        "\n",
        "list_ is a Python list, and the elements will have their original data types, which are typically int.\n",
        "\n",
        "array_list is a NumPy array, and when you specify dtype=int, the elements are converted to int64 (or int32 depending on the platform).\n",
        "\n",
        "Code to Print Data Types of Each Element\n",
        "Here is the code to check and print the data types of each and every element in both variables, list_ and array_list:"
      ],
      "metadata": {
        "id": "roRrPmJgbpq9"
      }
    },
    {
      "cell_type": "code",
      "source": [
        "array_list = np.array(object = list_, dtype = int)\n",
        "array_list"
      ],
      "metadata": {
        "colab": {
          "base_uri": "https://localhost:8080/"
        },
        "id": "23v-AnwBcvGV",
        "outputId": "66ab19b1-13a9-49a0-e0d4-633776bf0fa1"
      },
      "execution_count": 27,
      "outputs": [
        {
          "output_type": "execute_result",
          "data": {
            "text/plain": [
              "array([1, 2, 3, 4, 5])"
            ]
          },
          "metadata": {},
          "execution_count": 27
        }
      ]
    },
    {
      "cell_type": "code",
      "source": [
        "import numpy as np\n",
        "\n",
        "# Original list\n",
        "list_ = [1, 2, 3, 4, 5]\n",
        "\n",
        "# Convert the list to a NumPy array with dtype=int\n",
        "array_list = np.array(object=list_, dtype=int)\n",
        "\n",
        "# Print the data types of each element in list_\n",
        "print(\"Data types in list_:\")\n",
        "for element in list_:\n",
        "    print(type(element))\n",
        "\n",
        "# Print the data types of each element in array_list\n",
        "print(\"\\nData types in array_list:\")\n",
        "for element in array_list:\n",
        "    print(type(element))\n"
      ],
      "metadata": {
        "colab": {
          "base_uri": "https://localhost:8080/"
        },
        "id": "P54Ucy5Dbv_0",
        "outputId": "a1505dca-318e-41a1-acc6-dc180302986c"
      },
      "execution_count": 26,
      "outputs": [
        {
          "output_type": "stream",
          "name": "stdout",
          "text": [
            "Data types in list_:\n",
            "<class 'int'>\n",
            "<class 'int'>\n",
            "<class 'int'>\n",
            "<class 'int'>\n",
            "<class 'int'>\n",
            "\n",
            "Data types in array_list:\n",
            "<class 'numpy.int64'>\n",
            "<class 'numpy.int64'>\n",
            "<class 'numpy.int64'>\n",
            "<class 'numpy.int64'>\n",
            "<class 'numpy.int64'>\n"
          ]
        }
      ]
    },
    {
      "cell_type": "markdown",
      "source": [
        "Consider the below code to answer further questions:"
      ],
      "metadata": {
        "id": "lfg8sK28c6Pv"
      }
    },
    {
      "cell_type": "code",
      "source": [
        "import numpy as np\n",
        "num_list = [ [ 1 , 2 , 3 ] , [ 4 , 5 , 6 ] ]\n",
        "num_array = np.array(object = num_list)"
      ],
      "metadata": {
        "id": "euowLDrVc-Z0"
      },
      "execution_count": 28,
      "outputs": []
    },
    {
      "cell_type": "code",
      "source": [
        "num_array\n"
      ],
      "metadata": {
        "colab": {
          "base_uri": "https://localhost:8080/"
        },
        "id": "CyO6wZIYc_Zk",
        "outputId": "7082bd26-7071-41c2-bf71-045214f38924"
      },
      "execution_count": 29,
      "outputs": [
        {
          "output_type": "execute_result",
          "data": {
            "text/plain": [
              "array([[1, 2, 3],\n",
              "       [4, 5, 6]])"
            ]
          },
          "metadata": {},
          "execution_count": 29
        }
      ]
    },
    {
      "cell_type": "markdown",
      "source": [
        "Question 4: Write a code to find the following characteristics of variable, num_array:\n",
        "1. shape\n",
        "2. size"
      ],
      "metadata": {
        "id": "cJ0jX53cdLEa"
      }
    },
    {
      "cell_type": "markdown",
      "source": [
        "Answer:-"
      ],
      "metadata": {
        "id": "3svDOQ06dO6T"
      }
    },
    {
      "cell_type": "code",
      "source": [
        "# Showing num_array shape\n",
        "num_array.shape"
      ],
      "metadata": {
        "colab": {
          "base_uri": "https://localhost:8080/"
        },
        "id": "QX3nvidRdWgC",
        "outputId": "e76ba817-0425-4957-da73-7e2ac432a27b"
      },
      "execution_count": 30,
      "outputs": [
        {
          "output_type": "execute_result",
          "data": {
            "text/plain": [
              "(2, 3)"
            ]
          },
          "metadata": {},
          "execution_count": 30
        }
      ]
    },
    {
      "cell_type": "code",
      "source": [
        "# Showing num_array shape\n",
        "num_array.shape"
      ],
      "metadata": {
        "colab": {
          "base_uri": "https://localhost:8080/"
        },
        "id": "D03x28bwdXUf",
        "outputId": "173fec6e-e5c8-4810-bd8c-3da56d7e6492"
      },
      "execution_count": 31,
      "outputs": [
        {
          "output_type": "execute_result",
          "data": {
            "text/plain": [
              "(2, 3)"
            ]
          },
          "metadata": {},
          "execution_count": 31
        }
      ]
    },
    {
      "cell_type": "markdown",
      "source": [
        "Question 5: Write a code to create numpy array of 3*3 matrix containing zeros only, using a numpy array creation function."
      ],
      "metadata": {
        "id": "yFojQQVrdiLe"
      }
    },
    {
      "cell_type": "markdown",
      "source": [
        "Answer:-"
      ],
      "metadata": {
        "id": "9dUFIwBFdvWP"
      }
    },
    {
      "cell_type": "code",
      "source": [
        "import numpy as np\n",
        "\n",
        "# Create a 3x3 matrix containing zeros\n",
        "zero_matrix = np.zeros((3, 3))\n",
        "\n",
        "# Print the matrix\n",
        "print(zero_matrix)\n"
      ],
      "metadata": {
        "colab": {
          "base_uri": "https://localhost:8080/"
        },
        "id": "CynSNoi-djZB",
        "outputId": "40cd1af5-3e2d-43ae-fb97-6884454d138e"
      },
      "execution_count": 32,
      "outputs": [
        {
          "output_type": "stream",
          "name": "stdout",
          "text": [
            "[[0. 0. 0.]\n",
            " [0. 0. 0.]\n",
            " [0. 0. 0.]]\n"
          ]
        }
      ]
    },
    {
      "cell_type": "code",
      "source": [
        "# Verifying Matrix size and shape\n",
        "print(f'Size of arr5 is {zero_matrix.size}')\n",
        "print(f'Shape of arr5 is {zero_matrix.shape}')"
      ],
      "metadata": {
        "colab": {
          "base_uri": "https://localhost:8080/"
        },
        "id": "nFibW2t6eGti",
        "outputId": "765a129c-da7c-4a53-a8d5-ced87967f3b5"
      },
      "execution_count": 34,
      "outputs": [
        {
          "output_type": "stream",
          "name": "stdout",
          "text": [
            "Size of arr5 is 9\n",
            "Shape of arr5 is (3, 3)\n"
          ]
        }
      ]
    },
    {
      "cell_type": "markdown",
      "source": [
        "Q6. Create an identity matrix of shape (5,5) using numpy functions?\n",
        "[Hint: An identity matrix is a matrix containing 1 diagonally and other elements will be 0.]"
      ],
      "metadata": {
        "id": "y5wuecgieXgP"
      }
    },
    {
      "cell_type": "markdown",
      "source": [
        "Answer:-"
      ],
      "metadata": {
        "id": "Vs6XCDlgeZSj"
      }
    },
    {
      "cell_type": "code",
      "source": [
        "import numpy as np\n",
        "\n",
        "# Create a 5x5 identity matrix\n",
        "identity_matrix = np.eye(5)\n",
        "\n",
        "# Print the matrix\n",
        "print(identity_matrix)"
      ],
      "metadata": {
        "colab": {
          "base_uri": "https://localhost:8080/"
        },
        "id": "Zborv-9IebXo",
        "outputId": "e4d7751b-1d1c-472a-cd92-1ec16ef83712"
      },
      "execution_count": 35,
      "outputs": [
        {
          "output_type": "stream",
          "name": "stdout",
          "text": [
            "[[1. 0. 0. 0. 0.]\n",
            " [0. 1. 0. 0. 0.]\n",
            " [0. 0. 1. 0. 0.]\n",
            " [0. 0. 0. 1. 0.]\n",
            " [0. 0. 0. 0. 1.]]\n"
          ]
        }
      ]
    },
    {
      "cell_type": "code",
      "source": [],
      "metadata": {
        "id": "GKd6qyk-ejct"
      },
      "execution_count": null,
      "outputs": []
    }
  ]
}